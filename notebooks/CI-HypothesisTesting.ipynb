{
  "cells": [
    {
      "cell_type": "code",
      "execution_count": 3,
      "metadata": {
        "colab": {
          "base_uri": "https://localhost:8080/"
        },
        "id": "vgN9IzKh2B4V",
        "outputId": "0adc49f5-4b22-41ba-ba58-709196a0fff4"
      },
      "outputs": [
        {
          "output_type": "execute_result",
          "data": {
            "text/plain": [
              "(17.408981355522524, 23.391018644477473)"
            ]
          },
          "metadata": {},
          "execution_count": 3
        }
      ],
      "source": [
        "#Confidence Intervals Using the t Distribution\n",
        "#The following example shows how to calculate a confidence interval for the true population mean height (in inches) of a certain species of plant, using a sample of 15 plants:\n",
        "#If we’re working with a small sample (n <30), we can use the t.interval() function from the scipy.stats library to calculate a confidence interval for a population mean.\n",
        "\n",
        "import numpy as np\n",
        "import scipy.stats as st\n",
        "\n",
        "#define sample data\n",
        "data = [12, 12, 13, 13, 15, 16, 17, 22, 23, 25, 26, 27, 28, 28, 29]\n",
        "\n",
        "#create 95% confidence interval for population mean weight. You’ll notice that the larger the confidence level, the wider the confidence interval.\n",
        "st.t.interval(confidence = 0.95, df=len(data)-1, loc=np.mean(data), scale=st.sem(data))\n",
        "\n"
      ]
    },
    {
      "cell_type": "markdown",
      "metadata": {
        "id": "qgsTxQMd4HiK"
      },
      "source": [
        "That is, there’s only a 5% chance that the true population mean height of plants is less than 16.758 inches or greater than 24.042 inches."
      ]
    },
    {
      "cell_type": "code",
      "execution_count": 5,
      "metadata": {
        "colab": {
          "base_uri": "https://localhost:8080/"
        },
        "id": "qdPbsV5H3EHf",
        "outputId": "9460b461-4ae5-4308-cb4f-742bbfb75c82"
      },
      "outputs": [
        {
          "output_type": "execute_result",
          "data": {
            "text/plain": [
              "(17.695874465475686, 20.78412553452431)"
            ]
          },
          "metadata": {},
          "execution_count": 5
        }
      ],
      "source": [
        "#Confidence Intervals Using the Normal Distribution\n",
        "#If we’re working with larger samples (n≥30), we can assume that the sampling distribution of the sample mean is normally distributed\n",
        "#(thanks to the Central Limit Theorem) and can instead use the norm.interval() function from the scipy.stats library.\n",
        "\n",
        "\n",
        "#define sample data\n",
        "np.random.seed(0)\n",
        "data = np.random.randint(10, 30, 50)\n",
        "\n",
        "#create 95% confidence interval for population mean weight\n",
        "st.norm.interval(confidence = 0.95, loc=np.mean(data), scale=st.sem(data))\n"
      ]
    },
    {
      "cell_type": "code",
      "execution_count": null,
      "metadata": {
        "colab": {
          "base_uri": "https://localhost:8080/",
          "height": 325
        },
        "id": "0VvtEv_FpM0G",
        "outputId": "e829963a-399a-44e3-a126-82b9cb6a78ec"
      },
      "outputs": [
        {
          "name": "stderr",
          "output_type": "stream",
          "text": [
            "/usr/local/lib/python3.10/dist-packages/openpyxl/worksheet/_reader.py:329: UserWarning: Data Validation extension is not supported and will be removed\n",
            "  warn(msg)\n"
          ]
        },
        {
          "data": {
            "application/vnd.google.colaboratory.intrinsic+json": {
              "type": "dataframe",
              "variable_name": "df"
            },
            "text/html": [
              "\n",
              "  <div id=\"df-08b70f1e-8882-40ec-930d-42b092a0eb96\" class=\"colab-df-container\">\n",
              "    <div>\n",
              "<style scoped>\n",
              "    .dataframe tbody tr th:only-of-type {\n",
              "        vertical-align: middle;\n",
              "    }\n",
              "\n",
              "    .dataframe tbody tr th {\n",
              "        vertical-align: top;\n",
              "    }\n",
              "\n",
              "    .dataframe thead th {\n",
              "        text-align: right;\n",
              "    }\n",
              "</style>\n",
              "<table border=\"1\" class=\"dataframe\">\n",
              "  <thead>\n",
              "    <tr style=\"text-align: right;\">\n",
              "      <th></th>\n",
              "      <th>ID</th>\n",
              "      <th>Building</th>\n",
              "      <th>Year of sale</th>\n",
              "      <th>Month of sale</th>\n",
              "      <th>Type of property</th>\n",
              "      <th>Property #</th>\n",
              "      <th>Area (ft.)</th>\n",
              "      <th>Price</th>\n",
              "      <th>Status</th>\n",
              "      <th>Customer ID</th>\n",
              "      <th>...</th>\n",
              "      <th>Y</th>\n",
              "      <th>M</th>\n",
              "      <th>D</th>\n",
              "      <th>Gender</th>\n",
              "      <th>Country</th>\n",
              "      <th>State</th>\n",
              "      <th>Purpose</th>\n",
              "      <th>Deal satisfaction</th>\n",
              "      <th>Mortgage</th>\n",
              "      <th>Source</th>\n",
              "    </tr>\n",
              "  </thead>\n",
              "  <tbody>\n",
              "    <tr>\n",
              "      <th>0</th>\n",
              "      <td>1030</td>\n",
              "      <td>1</td>\n",
              "      <td>2005.0</td>\n",
              "      <td>11.0</td>\n",
              "      <td>Apartment</td>\n",
              "      <td>30</td>\n",
              "      <td>743.0856</td>\n",
              "      <td>246172.6760</td>\n",
              "      <td>Sold</td>\n",
              "      <td>C0028</td>\n",
              "      <td>...</td>\n",
              "      <td>1986.0</td>\n",
              "      <td>6.0</td>\n",
              "      <td>21.0</td>\n",
              "      <td>F</td>\n",
              "      <td>USA</td>\n",
              "      <td>California</td>\n",
              "      <td>Home</td>\n",
              "      <td>5.0</td>\n",
              "      <td>No</td>\n",
              "      <td>Website</td>\n",
              "    </tr>\n",
              "    <tr>\n",
              "      <th>1</th>\n",
              "      <td>1029</td>\n",
              "      <td>1</td>\n",
              "      <td>2005.0</td>\n",
              "      <td>10.0</td>\n",
              "      <td>Apartment</td>\n",
              "      <td>29</td>\n",
              "      <td>756.2128</td>\n",
              "      <td>246331.9040</td>\n",
              "      <td>Sold</td>\n",
              "      <td>C0027</td>\n",
              "      <td>...</td>\n",
              "      <td>1983.0</td>\n",
              "      <td>2.0</td>\n",
              "      <td>24.0</td>\n",
              "      <td>F</td>\n",
              "      <td>USA</td>\n",
              "      <td>California</td>\n",
              "      <td>Home</td>\n",
              "      <td>5.0</td>\n",
              "      <td>No</td>\n",
              "      <td>Website</td>\n",
              "    </tr>\n",
              "    <tr>\n",
              "      <th>2</th>\n",
              "      <td>2002</td>\n",
              "      <td>2</td>\n",
              "      <td>2007.0</td>\n",
              "      <td>7.0</td>\n",
              "      <td>Apartment</td>\n",
              "      <td>2</td>\n",
              "      <td>587.2808</td>\n",
              "      <td>209280.9104</td>\n",
              "      <td>Sold</td>\n",
              "      <td>C0112</td>\n",
              "      <td>...</td>\n",
              "      <td>1985.0</td>\n",
              "      <td>12.0</td>\n",
              "      <td>27.0</td>\n",
              "      <td>M</td>\n",
              "      <td>USA</td>\n",
              "      <td>California</td>\n",
              "      <td>Home</td>\n",
              "      <td>1.0</td>\n",
              "      <td>Yes</td>\n",
              "      <td>Client</td>\n",
              "    </tr>\n",
              "    <tr>\n",
              "      <th>3</th>\n",
              "      <td>2031</td>\n",
              "      <td>2</td>\n",
              "      <td>2007.0</td>\n",
              "      <td>12.0</td>\n",
              "      <td>Apartment</td>\n",
              "      <td>31</td>\n",
              "      <td>1604.7464</td>\n",
              "      <td>452667.0064</td>\n",
              "      <td>Sold</td>\n",
              "      <td>C0160</td>\n",
              "      <td>...</td>\n",
              "      <td>1985.0</td>\n",
              "      <td>12.0</td>\n",
              "      <td>27.0</td>\n",
              "      <td>M</td>\n",
              "      <td>USA</td>\n",
              "      <td>California</td>\n",
              "      <td>Investment</td>\n",
              "      <td>3.0</td>\n",
              "      <td>Yes</td>\n",
              "      <td>Website</td>\n",
              "    </tr>\n",
              "    <tr>\n",
              "      <th>4</th>\n",
              "      <td>1049</td>\n",
              "      <td>1</td>\n",
              "      <td>2004.0</td>\n",
              "      <td>11.0</td>\n",
              "      <td>Apartment</td>\n",
              "      <td>49</td>\n",
              "      <td>1375.4508</td>\n",
              "      <td>467083.3132</td>\n",
              "      <td>Sold</td>\n",
              "      <td>C0014</td>\n",
              "      <td>...</td>\n",
              "      <td>1979.0</td>\n",
              "      <td>5.0</td>\n",
              "      <td>15.0</td>\n",
              "      <td>F</td>\n",
              "      <td>USA</td>\n",
              "      <td>California</td>\n",
              "      <td>Home</td>\n",
              "      <td>4.0</td>\n",
              "      <td>No</td>\n",
              "      <td>Agency</td>\n",
              "    </tr>\n",
              "  </tbody>\n",
              "</table>\n",
              "<p>5 rows × 25 columns</p>\n",
              "</div>\n",
              "    <div class=\"colab-df-buttons\">\n",
              "\n",
              "  <div class=\"colab-df-container\">\n",
              "    <button class=\"colab-df-convert\" onclick=\"convertToInteractive('df-08b70f1e-8882-40ec-930d-42b092a0eb96')\"\n",
              "            title=\"Convert this dataframe to an interactive table.\"\n",
              "            style=\"display:none;\">\n",
              "\n",
              "  <svg xmlns=\"http://www.w3.org/2000/svg\" height=\"24px\" viewBox=\"0 -960 960 960\">\n",
              "    <path d=\"M120-120v-720h720v720H120Zm60-500h600v-160H180v160Zm220 220h160v-160H400v160Zm0 220h160v-160H400v160ZM180-400h160v-160H180v160Zm440 0h160v-160H620v160ZM180-180h160v-160H180v160Zm440 0h160v-160H620v160Z\"/>\n",
              "  </svg>\n",
              "    </button>\n",
              "\n",
              "  <style>\n",
              "    .colab-df-container {\n",
              "      display:flex;\n",
              "      gap: 12px;\n",
              "    }\n",
              "\n",
              "    .colab-df-convert {\n",
              "      background-color: #E8F0FE;\n",
              "      border: none;\n",
              "      border-radius: 50%;\n",
              "      cursor: pointer;\n",
              "      display: none;\n",
              "      fill: #1967D2;\n",
              "      height: 32px;\n",
              "      padding: 0 0 0 0;\n",
              "      width: 32px;\n",
              "    }\n",
              "\n",
              "    .colab-df-convert:hover {\n",
              "      background-color: #E2EBFA;\n",
              "      box-shadow: 0px 1px 2px rgba(60, 64, 67, 0.3), 0px 1px 3px 1px rgba(60, 64, 67, 0.15);\n",
              "      fill: #174EA6;\n",
              "    }\n",
              "\n",
              "    .colab-df-buttons div {\n",
              "      margin-bottom: 4px;\n",
              "    }\n",
              "\n",
              "    [theme=dark] .colab-df-convert {\n",
              "      background-color: #3B4455;\n",
              "      fill: #D2E3FC;\n",
              "    }\n",
              "\n",
              "    [theme=dark] .colab-df-convert:hover {\n",
              "      background-color: #434B5C;\n",
              "      box-shadow: 0px 1px 3px 1px rgba(0, 0, 0, 0.15);\n",
              "      filter: drop-shadow(0px 1px 2px rgba(0, 0, 0, 0.3));\n",
              "      fill: #FFFFFF;\n",
              "    }\n",
              "  </style>\n",
              "\n",
              "    <script>\n",
              "      const buttonEl =\n",
              "        document.querySelector('#df-08b70f1e-8882-40ec-930d-42b092a0eb96 button.colab-df-convert');\n",
              "      buttonEl.style.display =\n",
              "        google.colab.kernel.accessAllowed ? 'block' : 'none';\n",
              "\n",
              "      async function convertToInteractive(key) {\n",
              "        const element = document.querySelector('#df-08b70f1e-8882-40ec-930d-42b092a0eb96');\n",
              "        const dataTable =\n",
              "          await google.colab.kernel.invokeFunction('convertToInteractive',\n",
              "                                                    [key], {});\n",
              "        if (!dataTable) return;\n",
              "\n",
              "        const docLinkHtml = 'Like what you see? Visit the ' +\n",
              "          '<a target=\"_blank\" href=https://colab.research.google.com/notebooks/data_table.ipynb>data table notebook</a>'\n",
              "          + ' to learn more about interactive tables.';\n",
              "        element.innerHTML = '';\n",
              "        dataTable['output_type'] = 'display_data';\n",
              "        await google.colab.output.renderOutput(dataTable, element);\n",
              "        const docLink = document.createElement('div');\n",
              "        docLink.innerHTML = docLinkHtml;\n",
              "        element.appendChild(docLink);\n",
              "      }\n",
              "    </script>\n",
              "  </div>\n",
              "\n",
              "\n",
              "<div id=\"df-d5a2ea18-c065-4060-b6d1-0b8a82e773d6\">\n",
              "  <button class=\"colab-df-quickchart\" onclick=\"quickchart('df-d5a2ea18-c065-4060-b6d1-0b8a82e773d6')\"\n",
              "            title=\"Suggest charts\"\n",
              "            style=\"display:none;\">\n",
              "\n",
              "<svg xmlns=\"http://www.w3.org/2000/svg\" height=\"24px\"viewBox=\"0 0 24 24\"\n",
              "     width=\"24px\">\n",
              "    <g>\n",
              "        <path d=\"M19 3H5c-1.1 0-2 .9-2 2v14c0 1.1.9 2 2 2h14c1.1 0 2-.9 2-2V5c0-1.1-.9-2-2-2zM9 17H7v-7h2v7zm4 0h-2V7h2v10zm4 0h-2v-4h2v4z\"/>\n",
              "    </g>\n",
              "</svg>\n",
              "  </button>\n",
              "\n",
              "<style>\n",
              "  .colab-df-quickchart {\n",
              "      --bg-color: #E8F0FE;\n",
              "      --fill-color: #1967D2;\n",
              "      --hover-bg-color: #E2EBFA;\n",
              "      --hover-fill-color: #174EA6;\n",
              "      --disabled-fill-color: #AAA;\n",
              "      --disabled-bg-color: #DDD;\n",
              "  }\n",
              "\n",
              "  [theme=dark] .colab-df-quickchart {\n",
              "      --bg-color: #3B4455;\n",
              "      --fill-color: #D2E3FC;\n",
              "      --hover-bg-color: #434B5C;\n",
              "      --hover-fill-color: #FFFFFF;\n",
              "      --disabled-bg-color: #3B4455;\n",
              "      --disabled-fill-color: #666;\n",
              "  }\n",
              "\n",
              "  .colab-df-quickchart {\n",
              "    background-color: var(--bg-color);\n",
              "    border: none;\n",
              "    border-radius: 50%;\n",
              "    cursor: pointer;\n",
              "    display: none;\n",
              "    fill: var(--fill-color);\n",
              "    height: 32px;\n",
              "    padding: 0;\n",
              "    width: 32px;\n",
              "  }\n",
              "\n",
              "  .colab-df-quickchart:hover {\n",
              "    background-color: var(--hover-bg-color);\n",
              "    box-shadow: 0 1px 2px rgba(60, 64, 67, 0.3), 0 1px 3px 1px rgba(60, 64, 67, 0.15);\n",
              "    fill: var(--button-hover-fill-color);\n",
              "  }\n",
              "\n",
              "  .colab-df-quickchart-complete:disabled,\n",
              "  .colab-df-quickchart-complete:disabled:hover {\n",
              "    background-color: var(--disabled-bg-color);\n",
              "    fill: var(--disabled-fill-color);\n",
              "    box-shadow: none;\n",
              "  }\n",
              "\n",
              "  .colab-df-spinner {\n",
              "    border: 2px solid var(--fill-color);\n",
              "    border-color: transparent;\n",
              "    border-bottom-color: var(--fill-color);\n",
              "    animation:\n",
              "      spin 1s steps(1) infinite;\n",
              "  }\n",
              "\n",
              "  @keyframes spin {\n",
              "    0% {\n",
              "      border-color: transparent;\n",
              "      border-bottom-color: var(--fill-color);\n",
              "      border-left-color: var(--fill-color);\n",
              "    }\n",
              "    20% {\n",
              "      border-color: transparent;\n",
              "      border-left-color: var(--fill-color);\n",
              "      border-top-color: var(--fill-color);\n",
              "    }\n",
              "    30% {\n",
              "      border-color: transparent;\n",
              "      border-left-color: var(--fill-color);\n",
              "      border-top-color: var(--fill-color);\n",
              "      border-right-color: var(--fill-color);\n",
              "    }\n",
              "    40% {\n",
              "      border-color: transparent;\n",
              "      border-right-color: var(--fill-color);\n",
              "      border-top-color: var(--fill-color);\n",
              "    }\n",
              "    60% {\n",
              "      border-color: transparent;\n",
              "      border-right-color: var(--fill-color);\n",
              "    }\n",
              "    80% {\n",
              "      border-color: transparent;\n",
              "      border-right-color: var(--fill-color);\n",
              "      border-bottom-color: var(--fill-color);\n",
              "    }\n",
              "    90% {\n",
              "      border-color: transparent;\n",
              "      border-bottom-color: var(--fill-color);\n",
              "    }\n",
              "  }\n",
              "</style>\n",
              "\n",
              "  <script>\n",
              "    async function quickchart(key) {\n",
              "      const quickchartButtonEl =\n",
              "        document.querySelector('#' + key + ' button');\n",
              "      quickchartButtonEl.disabled = true;  // To prevent multiple clicks.\n",
              "      quickchartButtonEl.classList.add('colab-df-spinner');\n",
              "      try {\n",
              "        const charts = await google.colab.kernel.invokeFunction(\n",
              "            'suggestCharts', [key], {});\n",
              "      } catch (error) {\n",
              "        console.error('Error during call to suggestCharts:', error);\n",
              "      }\n",
              "      quickchartButtonEl.classList.remove('colab-df-spinner');\n",
              "      quickchartButtonEl.classList.add('colab-df-quickchart-complete');\n",
              "    }\n",
              "    (() => {\n",
              "      let quickchartButtonEl =\n",
              "        document.querySelector('#df-d5a2ea18-c065-4060-b6d1-0b8a82e773d6 button');\n",
              "      quickchartButtonEl.style.display =\n",
              "        google.colab.kernel.accessAllowed ? 'block' : 'none';\n",
              "    })();\n",
              "  </script>\n",
              "</div>\n",
              "\n",
              "    </div>\n",
              "  </div>\n"
            ],
            "text/plain": [
              "     ID  Building  Year of sale  Month of sale Type of property  Property #  \\\n",
              "0  1030         1        2005.0           11.0        Apartment          30   \n",
              "1  1029         1        2005.0           10.0        Apartment          29   \n",
              "2  2002         2        2007.0            7.0        Apartment           2   \n",
              "3  2031         2        2007.0           12.0        Apartment          31   \n",
              "4  1049         1        2004.0           11.0        Apartment          49   \n",
              "\n",
              "   Area (ft.)        Price Status Customer ID  ...       Y     M     D Gender  \\\n",
              "0    743.0856  246172.6760   Sold       C0028  ...  1986.0   6.0  21.0      F   \n",
              "1    756.2128  246331.9040   Sold       C0027  ...  1983.0   2.0  24.0      F   \n",
              "2    587.2808  209280.9104   Sold       C0112  ...  1985.0  12.0  27.0      M   \n",
              "3   1604.7464  452667.0064   Sold       C0160  ...  1985.0  12.0  27.0      M   \n",
              "4   1375.4508  467083.3132   Sold       C0014  ...  1979.0   5.0  15.0      F   \n",
              "\n",
              "  Country       State     Purpose  Deal satisfaction Mortgage   Source  \n",
              "0     USA  California        Home                5.0       No  Website  \n",
              "1     USA  California        Home                5.0       No  Website  \n",
              "2     USA  California        Home                1.0      Yes   Client  \n",
              "3     USA  California  Investment                3.0      Yes  Website  \n",
              "4     USA  California        Home                4.0       No   Agency  \n",
              "\n",
              "[5 rows x 25 columns]"
            ]
          },
          "execution_count": 6,
          "metadata": {},
          "output_type": "execute_result"
        }
      ],
      "source": [
        "import pandas as pd\n",
        "import numpy as np\n",
        "import matplotlib.pyplot as plt\n",
        "\n",
        "df = pd.read_excel(open(\"Descriptive-statistics-HomePrice.xlsx\", \"rb\"), \"Data\")\n",
        "df.head()"
      ]
    },
    {
      "cell_type": "code",
      "execution_count": null,
      "metadata": {
        "colab": {
          "base_uri": "https://localhost:8080/"
        },
        "id": "V9D7emzc9Kgv",
        "outputId": "73c24d5c-bb1a-45fd-efba-0764df7e19ec"
      },
      "outputs": [
        {
          "data": {
            "text/plain": [
              "(254640.55365368252, 286667.61461461004)"
            ]
          },
          "execution_count": 62,
          "metadata": {},
          "output_type": "execute_result"
        }
      ],
      "source": [
        "#99% confidence interval for price mean\n",
        "data = df['Price']\n",
        "st.t.interval(confidence = 0.99, df=len(data)-1, loc=np.mean(data), scale=st.sem(data))"
      ]
    },
    {
      "cell_type": "code",
      "execution_count": null,
      "metadata": {
        "id": "Ll3AlG0jp12I"
      },
      "outputs": [],
      "source": [
        "#Create a mple from our population\n",
        "sampled_df = df.sample(n=200, random_state=100)\n",
        "#optional: I used the whole dataset\n",
        "sampled_df = df"
      ]
    },
    {
      "cell_type": "code",
      "execution_count": null,
      "metadata": {
        "id": "A-amnBYf5RGf"
      },
      "outputs": [],
      "source": [
        "# Remove Empty Value from List\n",
        "sampled_df.dropna(inplace=True)"
      ]
    },
    {
      "cell_type": "code",
      "execution_count": null,
      "metadata": {
        "colab": {
          "base_uri": "https://localhost:8080/"
        },
        "id": "1B5aWvZqqJCd",
        "outputId": "6f01a26a-970d-4ce9-80be-9dbf4b43242a"
      },
      "outputs": [
        {
          "name": "stdout",
          "output_type": "stream",
          "text": [
            "(95,)\n",
            "(17,)\n"
          ]
        }
      ],
      "source": [
        "WebsiteBuyer = sampled_df[sampled_df['Source']=='Website']['Age at time of purchase']\n",
        "ClientBuyer = sampled_df[sampled_df['Source']=='Client']['Age at time of purchase']\n",
        "print(WebsiteBuyer.shape)\n",
        "print(ClientBuyer.shape)"
      ]
    },
    {
      "cell_type": "code",
      "execution_count": null,
      "metadata": {
        "colab": {
          "base_uri": "https://localhost:8080/"
        },
        "id": "EjdgRlcX4pNF",
        "outputId": "6ee79084-7397-4322-cc85-953b52720cce"
      },
      "outputs": [
        {
          "data": {
            "text/plain": [
              "0      19\n",
              "1      22\n",
              "3      22\n",
              "8      27\n",
              "11     26\n",
              "       ..\n",
              "170    69\n",
              "171    69\n",
              "172    71\n",
              "173    71\n",
              "177    76\n",
              "Name: Age at time of purchase, Length: 95, dtype: object"
            ]
          },
          "execution_count": 56,
          "metadata": {},
          "output_type": "execute_result"
        }
      ],
      "source": [
        "WebsiteBuyer"
      ]
    },
    {
      "cell_type": "code",
      "execution_count": null,
      "metadata": {
        "colab": {
          "base_uri": "https://localhost:8080/"
        },
        "id": "SxYFDsa0OZWm",
        "outputId": "81b9afda-46fa-4ba8-ae36-7b5e2d5c7e39"
      },
      "outputs": [
        {
          "name": "stdout",
          "output_type": "stream",
          "text": [
            "(38,)\n",
            "(57,)\n"
          ]
        }
      ],
      "source": [
        "femaleBuyer = sampled_df.loc[(sampled_df['Source']=='Website') & (sampled_df['Gender']=='F')]['Age at time of purchase']\n",
        "print(femaleBuyer.shape)\n",
        "maleBuyer = sampled_df.loc[(sampled_df['Source']=='Website') & (sampled_df['Gender']=='M')]['Age at time of purchase']\n",
        "print(maleBuyer.shape)"
      ]
    },
    {
      "cell_type": "code",
      "execution_count": null,
      "metadata": {
        "id": "oMvjOMcmrbO0"
      },
      "outputs": [],
      "source": [
        "#from scipy.stats import t\n",
        "rv = st.t(df=maleBuyer.shape[0] + femaleBuyer.shape[0] -2)"
      ]
    },
    {
      "cell_type": "code",
      "execution_count": null,
      "metadata": {
        "colab": {
          "base_uri": "https://localhost:8080/"
        },
        "id": "BioHmrtardS2",
        "outputId": "771c2266-bf6c-437d-dc6f-cd160862c119"
      },
      "outputs": [
        {
          "name": "stdout",
          "output_type": "stream",
          "text": [
            "0.9345456425437244 0.08234966517675023\n"
          ]
        }
      ],
      "source": [
        "#from scipy.stats import ttest_ind\n",
        "t_stat,pvalue = st.ttest_ind(femaleBuyer,maleBuyer)\n",
        "print(pvalue,t_stat)"
      ]
    },
    {
      "cell_type": "code",
      "execution_count": null,
      "metadata": {
        "colab": {
          "base_uri": "https://localhost:8080/"
        },
        "id": "jJI57o8FkP6h",
        "outputId": "e32384c9-7e48-48b5-94a3-930295e80be6"
      },
      "outputs": [
        {
          "name": "stdout",
          "output_type": "stream",
          "text": [
            "(65,)\n",
            "(99,)\n"
          ]
        }
      ],
      "source": [
        "FemaleBuyer = sampled_df[sampled_df['Gender']=='F']['Price']\n",
        "MaleBuyer = sampled_df[sampled_df['Gender']=='M']['Price']\n",
        "print(FemaleBuyer.shape)\n",
        "print(MaleBuyer.shape)"
      ]
    },
    {
      "cell_type": "code",
      "execution_count": null,
      "metadata": {
        "colab": {
          "base_uri": "https://localhost:8080/"
        },
        "id": "aPi5_lSDkYGB",
        "outputId": "47172a1b-0e63-4204-cd9f-20a557788995"
      },
      "outputs": [
        {
          "data": {
            "text/plain": [
              "0.6170586622511833"
            ]
          },
          "execution_count": 14,
          "metadata": {},
          "output_type": "execute_result"
        }
      ],
      "source": [
        "rv = st.t(df= FemaleBuyer.shape[0] + MaleBuyer.shape[0]-2)\n",
        "t_stat, pvalue = st.ttest_ind(FemaleBuyer, MaleBuyer)\n",
        "pvalue"
      ]
    },
    {
      "cell_type": "code",
      "execution_count": null,
      "metadata": {
        "id": "28fMeGpLyVol"
      },
      "outputs": [],
      "source": []
    }
  ],
  "metadata": {
    "colab": {
      "provenance": []
    },
    "kernelspec": {
      "display_name": "Python 3",
      "name": "python3"
    },
    "language_info": {
      "name": "python"
    }
  },
  "nbformat": 4,
  "nbformat_minor": 0
}